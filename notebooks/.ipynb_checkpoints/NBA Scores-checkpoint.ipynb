{
 "cells": [
  {
   "cell_type": "markdown",
   "metadata": {},
   "source": [
    "# NBA Score Predictor\n",
    "\n",
    "### Introduction\n",
    "Many individuals enjoy watching sport games. For some, it is more fun to predict the outcomes of teams. Based on cameron measurements, can game scores be predicted for certain team matchups?"
   ]
  },
  {
   "cell_type": "code",
   "execution_count": 1,
   "metadata": {},
   "outputs": [],
   "source": [
    "import pandas as pd\n",
    "import numpy as np\n",
    "import matplotlib.pyplot as plt\n",
    "from sklearn.model_selection import train_test_split\n",
    "from sklearn.ensemble import RandomForestClassifier as RFC\n",
    "from sklearn import metrics\n",
    "from sklearn import preprocessing #for standardization\n",
    "from sklearn import linear_model\n",
    "\n",
    "#Import datasets\n",
    "NBAgames=pd.read_csv('../data/external/nba_elo.csv')"
   ]
  },
  {
   "cell_type": "markdown",
   "metadata": {},
   "source": [
    "## Cleaning Data\n",
    "\n",
    "#### Rows\n",
    "Carmelo measurements started in 2015. Viewing the website associated with this dataset, it contains more information regarding the teams such as traveling and time between games. Since these measurements are relied on, all rows without this information must be dropped also elo columns are dropped.\n",
    "\n",
    "#### Columns\n",
    "Neutral does not make sense in this context as it contains 99% of zeroes as measured on Google Facets. Furthermore, viewing playoff, many empty values exist, so these two columns are dropped. Also, viewing date does not make much sense as these do not necessarily determine data playoffs which are cordinated in carmelo. Finally, probabilites are dropped as they are dependent on carmelo measurements."
   ]
  },
  {
   "cell_type": "code",
   "execution_count": 2,
   "metadata": {},
   "outputs": [],
   "source": [
    "#Dropping rows\n",
    "NBAgames=NBAgames.dropna(subset=['carmelo1_pre'])\n",
    "\n",
    "#Dropping columns\n",
    "NBAgames=NBAgames.drop(columns=['neutral', 'playoff', 'date','elo1_pre','elo1_post','elo2_pre','elo2_post',])"
   ]
  },
  {
   "cell_type": "markdown",
   "metadata": {},
   "source": [
    "## Transformation\n",
    "\n",
    "After dropping unneccesary and unhelpful rows and columns, the index needs reset due to viewing the current few years. This creates an index column which is not needed. Lastly, all the cameron measurements and season need scaling(standardization) for machine learning algorithms.\n",
    "\n",
    "For ease of running the kernel, the finalized dataset is saved to the internal data folder.\n",
    "\n",
    "As a side note, I did attempt to normalize the scores, but fitting the dataset lead to errors."
   ]
  },
  {
   "cell_type": "code",
   "execution_count": 3,
   "metadata": {},
   "outputs": [],
   "source": [
    "#reset index\n",
    "NBAgames=NBAgames.reset_index()\n",
    "NBAgames=NBAgames.drop(columns=['index'])\n",
    "\n",
    "#create hashes of team names and add to column\n",
    "NBAgames['team1Hash']=NBAgames.team1.apply(hash)\n",
    "NBAgames['team2Hash']=NBAgames.team2.apply(hash)\n",
    "\n",
    "NBAgames['carmelo1_pre']=preprocessing.scale(NBAgames['carmelo1_pre'])\n",
    "NBAgames['carmelo2_pre']=preprocessing.scale(NBAgames['carmelo2_pre'])\n",
    "NBAgames['carmelo1_post']=preprocessing.scale(NBAgames['carmelo1_post'])\n",
    "NBAgames['carmelo2_post']=preprocessing.scale(NBAgames['carmelo2_post'])\n",
    "\n",
    "\n",
    "NBAgames['season']=NBAgames['season'].astype('float64')\n",
    "NBAgames['season']=preprocessing.scale(NBAgames['season'])\n",
    "\n",
    "#normalize scores\n",
    "#mini=NBAgames['score1'].min()\n",
    "#maxi=NBAgames['score1'].max()\n",
    "#NBAgames['score1']=NBAgames['score1'].apply(lambda x: (x-mini)/(maxi-mini))\n",
    "\n",
    "#mini=NBAgames['score2'].min()\n",
    "#maxi=NBAgames['score2'].max()\n",
    "#NBAgames['score2']=NBAgames['score2'].apply(lambda x: (x-mini)/(maxi-mini))\n",
    "\n",
    "#save manipulated data to internal folder\n",
    "NBAgames.to_csv('../data/internal/NBAval.csv')"
   ]
  },
  {
   "cell_type": "markdown",
   "metadata": {},
   "source": [
    "## Modeling\n",
    "In this assignment, regression models are created due to the numerical data. Based on this, random forests and logistic regression algorithms are implemented.\n",
    "\n",
    "Before applying the modeling algorithms, labels and features require determining. Furthermore, the dataset also requires splitting into 80:10:10 for training, testing and validation."
   ]
  },
  {
   "cell_type": "code",
   "execution_count": 4,
   "metadata": {},
   "outputs": [],
   "source": [
    "#Grab the data\n",
    "randomForest=pd.read_csv('../data/internal/NBAval.csv')\n",
    "randomForest=randomForest.drop(columns=['Unnamed: 0'])\n",
    "\n",
    "#Define the label to set\n",
    "label=randomForest.loc[:,('score1', 'score2')]\n",
    "\n",
    "#Define features\n",
    "features=randomForest.drop(columns=['score1','score2','team1','team2'], axis=1)\n",
    "\n",
    "#For plotting\n",
    "feature_list=list(randomForest.columns)\n",
    "\n",
    "#Convert to numpy array\n",
    "features=np.array(features)\n",
    "\n",
    "#Training/Testing/Validation Split\n",
    "x, x_test, y, y_test = train_test_split(features,label,test_size=0.1,train_size=0.9)\n",
    "x_train, x_val, y_train, y_val = train_test_split(x,y,test_size = 0.15,train_size =0.85)"
   ]
  },
  {
   "cell_type": "markdown",
   "metadata": {},
   "source": [
    "#### Random Forest\n",
    "The first model used is random forest. This model was previously used in the previous Shakespeare assignment. This collects the dataset and creates decisions based on the given values dependent on the labels.\n",
    "\n",
    "Two phases follow below. First, random forests require training and fitting of the two training sets where one is the labels and the other is features. Second, the success of the model is determined with three measurements: mean squared error, mean squared log error, and explained variance scores. "
   ]
  },
  {
   "cell_type": "code",
   "execution_count": 5,
   "metadata": {},
   "outputs": [
    {
     "data": {
      "text/plain": [
       "RandomForestClassifier(bootstrap=True, class_weight=None, criterion='gini',\n",
       "            max_depth=None, max_features='auto', max_leaf_nodes=None,\n",
       "            min_impurity_decrease=0.0, min_impurity_split=None,\n",
       "            min_samples_leaf=1, min_samples_split=2,\n",
       "            min_weight_fraction_leaf=0.0, n_estimators=10, n_jobs=1,\n",
       "            oob_score=False, random_state=None, verbose=0,\n",
       "            warm_start=False)"
      ]
     },
     "execution_count": 5,
     "metadata": {},
     "output_type": "execute_result"
    }
   ],
   "source": [
    "#----------Train---------\n",
    "rf=RFC()\n",
    "\n",
    "rf.fit(x_train, y_train)"
   ]
  },
  {
   "cell_type": "code",
   "execution_count": 11,
   "metadata": {},
   "outputs": [
    {
     "name": "stdout",
     "output_type": "stream",
     "text": [
      "Mean Squared Error: 232.5697969543147\n",
      "Mean Squared Log Error:  0.022147492503688523\n",
      "Explained Variance Score:  -0.5456044241615825\n",
      "Variance score:  -0.6075648832294118\n"
     ]
    }
   ],
   "source": [
    "#--------Measuring Predictions and Errors----------\n",
    "predictions=rf.predict(x_test)\n",
    "\n",
    "#Determining success of random trees\n",
    "\n",
    "sqLogErr=metrics.mean_squared_log_error(y_test,predictions)\n",
    "sqErr=metrics.mean_squared_error(y_test,predictions)\n",
    "variScore=metrics.explained_variance_score(y_test,predictions)\n",
    "r2=metrics.r2_score(y_test,predictions)\n",
    "\n",
    "print('Mean Squared Error:',sqErr)\n",
    "print('Mean Squared Log Error: ',sqLogErr)\n",
    "print('Explained Variance Score: ',variScore)\n",
    "print('Variance score: ', r2)\n",
    "\n",
    "#Test 1: Normalize\n",
    "#249,0.0234,-0.562\n",
    "#Test 2: Standardize\n",
    "#248,0.0232,-0.443\n",
    "#Test without probs and elo\n",
    "#220,0.0211,-0.601\n",
    "#Test without all probs\n",
    "#229, 0.0216, -0.538\n",
    "#Test with only elo\n",
    "#249, 0.0228, -0.523\n",
    "#Test with only elo all the way from the start\n",
    "#347,0.03557,-0.4707\n",
    "#Test with season and w/o probs and elo\n",
    "#212.43, 0.0201, -0.404\n",
    "#Test with normalizing team names\n",
    "#260,0.0245,-0.71\n",
    "\n",
    "#Final test without elo measurements and probabilities but did add season\n",
    "#221.102,0.0207,-0.449"
   ]
  },
  {
   "cell_type": "markdown",
   "metadata": {},
   "source": [
    "#### Linear Regression\n",
    "This algorithm attempts to determine labels through plotting lines. Similar to random forests, two phases follow: training and measurement. In contrast, R2 measurement is done which is a variance. The best score for that measurement is 1.0.\n"
   ]
  },
  {
   "cell_type": "code",
   "execution_count": 8,
   "metadata": {},
   "outputs": [],
   "source": [
    "#Create and train\n",
    "legr=linear_model.LinearRegression()\n",
    "\n",
    "legr.fit(x_train, y_train)\n",
    "\n",
    "#Make prediction\n",
    "predictions=legr.predict(x_test)"
   ]
  },
  {
   "cell_type": "code",
   "execution_count": 9,
   "metadata": {},
   "outputs": [
    {
     "name": "stdout",
     "output_type": "stream",
     "text": [
      "Mean Squared Error: 144.59850962266648\n",
      "Variance Score:  -0.0005501012165075037\n",
      "Mean Squared Log Error:  0.013819900260238514\n",
      "Explained Variance Score:  0.009445353804885925\n"
     ]
    }
   ],
   "source": [
    "mse=metrics.mean_squared_error(y_test, predictions)\n",
    "sqLogErr=metrics.mean_squared_log_error(y_test,predictions)\n",
    "variScore=metrics.explained_variance_score(y_test,predictions)\n",
    "r2=metrics.r2_score(y_test,predictions)\n",
    "\n",
    "print('Mean Squared Error:',mse)\n",
    "print('Mean Squared Log Error: ',sqLogErr)\n",
    "print('Explained Variance Score: ',variScore)\n",
    "print('Variance Score: ',r2)"
   ]
  },
  {
   "cell_type": "markdown",
   "metadata": {},
   "source": [
    "## Analysis\n",
    "Random forests received a squared error of 232.57 where linear regression output 144.60. Viewing variance score, as previously stated, a value closer to 1.0 is better. Unfortunately, random forest scored -0.6075 and linear regression at 0.0094. This is incredibly low. This may be due to serveral different reasons. The main one is the type of data. This data is based on forecasting due to traveling, players and historic performance. By only using this as before and after games, it would be difficult to accurately determine the score. Another reason the models are ill-performing may be due to the score data. Would there be a difference if this numerical data was normalized? Unfortunately, trying to normalize throws an error. \n",
    "\n",
    "Viewing the below plot, one can see the means of the predicted scores are higher than the test samples. The histograms represent the test set and the lines represent the mean of the predicted set."
   ]
  },
  {
   "cell_type": "code",
   "execution_count": 29,
   "metadata": {},
   "outputs": [
    {
     "data": {
      "text/plain": [
       "[<matplotlib.lines.Line2D at 0x1df2c3b2278>,\n",
       " <matplotlib.lines.Line2D at 0x1df27b3ebe0>]"
      ]
     },
     "execution_count": 29,
     "metadata": {},
     "output_type": "execute_result"
    },
    {
     "data": {
      "image/png": "[encoded data removed]",
      "text/plain": [
       "<Figure size 432x288 with 1 Axes>"
      ]
     },
     "metadata": {},
     "output_type": "display_data"
    }
   ],
   "source": [
    "# Plot outputs\n",
    "#plt.scatter(y_test, predictions, color='black')\n",
    "#plt.plot(x_test, predictions, color='blue', linewidth=3)\n",
    "\n",
    "#plot the actual scores\n",
    "item=y_train.plot.box()\n",
    "plt.plot(predictions)\n",
    "#plot the predicted scores\n"
   ]
  },
  {
   "cell_type": "markdown",
   "metadata": {},
   "source": [
    "## Conclusion\n",
    "All in all, determining the scores based on the teams and carmelo measurements does not output useful results. By viewing both random forests and linear regression, the variance score is extremely low compared to 1 and the error is quite high. However, based on the above graph, the means of the test set and predicted set is not highly different (about 10 points)."
   ]
  },
  {
   "cell_type": "markdown",
   "metadata": {},
   "source": [
    "## References\n",
    "Helped with measuring success of regression\n",
    "http://scikit-learn.org/stable/modules/classes.html#regression-metrics\n",
    "\n",
    "Implement linear regression and measure\n",
    "http://scikit-learn.org/stable/auto_examples/linear_model/plot_ols.html"
   ]
  },
  {
   "cell_type": "markdown",
   "metadata": {},
   "source": [
    "### Normalization Previously Used\n",
    " \n",
    "mini=NBAgames['elo1_pre'].min() \n",
    "\n",
    "maxi=NBAgames['elo1_pre'].max()\n",
    "\n",
    "NBAgames['elo1_pre']=NBAgames['elo1_pre'].apply(lambda x: (x-mini)/(maxi-mini)) \n",
    "\n",
    "***\n",
    "mini=NBAgames['elo2_pre'].min() \n",
    "\n",
    "maxi=NBAgames['elo2_pre'].max() \n",
    "\n",
    "NBAgames['elo2_pre']=NBAgames['elo2_pre'].apply(lambda x: (x-mini)/(maxi-mini)) \n",
    "\n",
    "***\n",
    "mini=NBAgames['elo1_post'].min() \n",
    "\n",
    "maxi=NBAgames['elo1_post'].max() \n",
    "\n",
    "NBAgames['elo1_post']=NBAgames['elo1_post'].apply(lambda x: (x-mini)/(maxi-mini)) \n",
    "***\n",
    "mini=NBAgames['elo2_post'].min() \n",
    "\n",
    "maxi=NBAgames['elo2_post'].max() \n",
    "\n",
    "NBAgames['elo2_post']=NBAgames['elo2_post'].apply(lambda x: (x-mini)/(maxi-mini)) \n",
    "***\n",
    "mini=NBAgames['carmelo1_pre'].min() \n",
    "\n",
    "maxi=NBAgames['carmelo1_pre'].max() \n",
    "\n",
    "NBAgames['carmelo1_pre']=NBAgames['carmelo1_pre'].apply(lambda x: (x-mini)/(maxi-mini)) \n",
    "***\n",
    "mini=NBAgames['carmelo2_pre'].min() \n",
    "\n",
    "maxi=NBAgames['carmelo2_pre'].max() \n",
    "\n",
    "NBAgames['carmelo2_pre']=NBAgames['carmelo2_pre'].apply(lambda x: (x-mini)/(maxi-mini)) \n",
    "***\n",
    "mini=NBAgames['carmelo1_post'].min() \n",
    "\n",
    "maxi=NBAgames['carmelo1_post'].max() \n",
    "\n",
    "NBAgames['carmelo1_post']=NBAgames['carmelo1_post'].apply(lambda x: (x-mini)/(maxi-mini)) \n",
    "***\n",
    "mini=NBAgames['carmelo2_post'].min() \n",
    "\n",
    "maxi=NBAgames['carmelo2_post'].max() \n",
    "\n",
    "NBAgames['carmelo2_post']=NBAgames['carmelo2_post'].apply(lambda x: (x-mini)/(maxi-mini)) \n"
   ]
  },
  {
   "cell_type": "code",
   "execution_count": null,
   "metadata": {},
   "outputs": [],
   "source": []
  }
 ],
 "metadata": {
  "kernelspec": {
   "display_name": "Python 3",
   "language": "python",
   "name": "python3"
  },
  "language_info": {
   "codemirror_mode": {
    "name": "ipython",
    "version": 3
   },
   "file_extension": ".py",
   "mimetype": "text/x-python",
   "name": "python",
   "nbconvert_exporter": "python",
   "pygments_lexer": "ipython3",
   "version": "3.6.5"
  }
 },
 "nbformat": 4,
 "nbformat_minor": 2
}
